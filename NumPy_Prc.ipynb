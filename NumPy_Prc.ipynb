{
 "cells": [
  {
   "cell_type": "code",
   "execution_count": 2,
   "id": "a0b815d8-ec0b-4965-88f9-8295a2cefd72",
   "metadata": {},
   "outputs": [],
   "source": [
    "#Import Library\n",
    "import numpy as np"
   ]
  },
  {
   "cell_type": "code",
   "execution_count": 3,
   "id": "1f042e8e-eb08-4599-a367-656f3d90ea2c",
   "metadata": {},
   "outputs": [
    {
     "name": "stdout",
     "output_type": "stream",
     "text": [
      "[10 20 30 40]\n"
     ]
    }
   ],
   "source": [
    "a=np.array([10,20,30,40])\n",
    "print(a)"
   ]
  },
  {
   "cell_type": "code",
   "execution_count": 4,
   "id": "abfc8258-9441-4ac2-9523-ddd15d2d0404",
   "metadata": {},
   "outputs": [
    {
     "name": "stdout",
     "output_type": "stream",
     "text": [
      "2.3.0\n"
     ]
    }
   ],
   "source": [
    "#Checking numpy version\n",
    "print(np.__version__)"
   ]
  },
  {
   "cell_type": "code",
   "execution_count": 5,
   "id": "8a389e96-6fc1-4dfb-a5f8-f34079326a9b",
   "metadata": {},
   "outputs": [
    {
     "name": "stdout",
     "output_type": "stream",
     "text": [
      "[1, 2, 3, 4]\n"
     ]
    }
   ],
   "source": [
    "#Print List \n",
    "list=[1,2,3,4]\n",
    "print(list)"
   ]
  },
  {
   "cell_type": "code",
   "execution_count": 7,
   "id": "20db0725-5e95-453e-84b6-eeabc3ecc9f4",
   "metadata": {},
   "outputs": [
    {
     "name": "stdout",
     "output_type": "stream",
     "text": [
      "[10 20 30 40]\n",
      "<class 'numpy.ndarray'>\n"
     ]
    }
   ],
   "source": [
    "#Tuple to array\n",
    "a=np.array((10,20,30,40))\n",
    "print(a)\n",
    "print(type(a))"
   ]
  },
  {
   "cell_type": "code",
   "execution_count": 8,
   "id": "a20fc4ab-5e9a-4817-a8a4-9b3816f7434b",
   "metadata": {},
   "outputs": [
    {
     "name": "stdout",
     "output_type": "stream",
     "text": [
      "43\n"
     ]
    }
   ],
   "source": [
    "# 0D Array\n",
    "a=np.array(43)\n",
    "print(a)"
   ]
  },
  {
   "cell_type": "code",
   "execution_count": 9,
   "id": "45a22211-9bb0-48b8-8455-9b53a19e1936",
   "metadata": {},
   "outputs": [
    {
     "name": "stdout",
     "output_type": "stream",
     "text": [
      "[10 20 30 40]\n"
     ]
    }
   ],
   "source": [
    "# 1D Array\n",
    "a=np.array([10,20,30,40])\n",
    "print(a)"
   ]
  },
  {
   "cell_type": "code",
   "execution_count": 11,
   "id": "19daca2a-e8f9-4dec-8c2a-efc869c0d662",
   "metadata": {},
   "outputs": [
    {
     "name": "stdout",
     "output_type": "stream",
     "text": [
      "[[10 20 30 40]\n",
      " [50 60 70 80]]\n"
     ]
    }
   ],
   "source": [
    "#2D array\n",
    "a=np.array([[10,20,30,40],\n",
    "           [50,60,70,80]])\n",
    "print(a)"
   ]
  },
  {
   "cell_type": "code",
   "execution_count": 18,
   "id": "f4128349-15b3-4230-ae14-10c2094edc5d",
   "metadata": {},
   "outputs": [
    {
     "name": "stdout",
     "output_type": "stream",
     "text": [
      "[[[1 2 3]\n",
      "  [4 5 6]]\n",
      "\n",
      " [[1 2 3]\n",
      "  [4 5 6]]]\n"
     ]
    }
   ],
   "source": [
    "#3D Array\n",
    "a=np.array([[[1,2,3],\n",
    "             [4,5,6]],\n",
    "             [[1,2,3],\n",
    "             [4,5,6]]])\n",
    "print(a)"
   ]
  },
  {
   "cell_type": "code",
   "execution_count": 23,
   "id": "fdb9c458-06d7-473e-958d-652f3156b1d2",
   "metadata": {},
   "outputs": [
    {
     "name": "stdout",
     "output_type": "stream",
     "text": [
      "3\n"
     ]
    }
   ],
   "source": [
    "#To check dimensionality\n",
    "print(a.ndim)"
   ]
  },
  {
   "cell_type": "code",
   "execution_count": 24,
   "id": "bb94dc2c-708e-4d6e-a3eb-961bbf3b60bf",
   "metadata": {},
   "outputs": [
    {
     "name": "stdout",
     "output_type": "stream",
     "text": [
      "40\n"
     ]
    }
   ],
   "source": [
    "#Access elements from array\n",
    "a=np.array([10,20,30,40,50])\n",
    "print(a[3])\n"
   ]
  },
  {
   "cell_type": "code",
   "execution_count": 33,
   "id": "c6f2a761-d484-4343-b62d-b66a01c156d3",
   "metadata": {},
   "outputs": [
    {
     "name": "stdout",
     "output_type": "stream",
     "text": [
      "30\n"
     ]
    }
   ],
   "source": [
    "#Access 2D array\n",
    "a=np.array([[10,20,30,40,50],\n",
    "           [50,60,70,80,90]])\n",
    "print(a[0,2])\n"
   ]
  },
  {
   "cell_type": "code",
   "execution_count": 34,
   "id": "0eed2a5f-7d33-4e3f-8f63-a1e31f06dffe",
   "metadata": {},
   "outputs": [
    {
     "name": "stdout",
     "output_type": "stream",
     "text": [
      "2nd element omn 1st row: 4\n"
     ]
    }
   ],
   "source": [
    "#2nd element omn 1st row\n",
    "a=np.array([[1,2,3,4],\n",
    "            [5,6,7,8]])\n",
    "print(\"2nd element omn 1st row:\",a[0,3])"
   ]
  },
  {
   "cell_type": "code",
   "execution_count": 35,
   "id": "2d794653-5d07-48bb-beaf-5471711c84a9",
   "metadata": {},
   "outputs": [
    {
     "name": "stdout",
     "output_type": "stream",
     "text": [
      "3\n",
      "6\n"
     ]
    }
   ],
   "source": [
    "#Negative Indexing\n",
    "a=np.array([[1,2,3,4],\n",
    "            [5,6,7,8]])\n",
    "print(a[0,-2])\n",
    "print(a[1,-3])\n"
   ]
  },
  {
   "cell_type": "code",
   "execution_count": 2,
   "id": "18e89418-1224-4b92-a961-2568a54fdffc",
   "metadata": {},
   "outputs": [
    {
     "name": "stdout",
     "output_type": "stream",
     "text": [
      "[20 30]\n"
     ]
    }
   ],
   "source": [
    "#Slicing array\n",
    "import numpy as np\n",
    "a=np.array([10,20,30,40,50])\n",
    "print(a[1:3])\n"
   ]
  },
  {
   "cell_type": "code",
   "execution_count": 3,
   "id": "b38d1607-b695-4b9e-93e3-9199b5b60be1",
   "metadata": {},
   "outputs": [
    {
     "name": "stdout",
     "output_type": "stream",
     "text": [
      "[20]\n"
     ]
    }
   ],
   "source": [
    "#Slicing array\n",
    "a=np.array([10,20,30,40,50])\n",
    "print(a[1:3:2])"
   ]
  },
  {
   "cell_type": "code",
   "execution_count": 67,
   "id": "2b4cf1d2-c4e6-4890-b86c-dd4876131704",
   "metadata": {},
   "outputs": [
    {
     "name": "stdout",
     "output_type": "stream",
     "text": [
      "[30 40]\n"
     ]
    }
   ],
   "source": [
    "#Negative slicing\n",
    "a=np.array([10,20,30,40,50])\n",
    "print(a[-3:-1])\n"
   ]
  },
  {
   "cell_type": "code",
   "execution_count": 6,
   "id": "cfa20e1d-3250-4a0f-b4bc-614db10d5cec",
   "metadata": {},
   "outputs": [
    {
     "name": "stdout",
     "output_type": "stream",
     "text": [
      "int64\n"
     ]
    }
   ],
   "source": [
    "#Dtype in array\n",
    "a=np.array([10,20,30,40,50])\n",
    "print(a.dtype)"
   ]
  },
  {
   "cell_type": "code",
   "execution_count": 7,
   "id": "22aa96b1-26c7-4c69-b01c-d90ddd173854",
   "metadata": {},
   "outputs": [
    {
     "name": "stdout",
     "output_type": "stream",
     "text": [
      "(2, 4)\n"
     ]
    }
   ],
   "source": [
    "#Numpy array shape\n",
    "a=np.array([[1,2,3,4],\n",
    "            [5,6,7,8]])\n",
    "print(a.shape)"
   ]
  },
  {
   "cell_type": "code",
   "execution_count": 8,
   "id": "579062c2-78bd-4ec1-839c-bd0ee79e1df9",
   "metadata": {},
   "outputs": [
    {
     "name": "stdout",
     "output_type": "stream",
     "text": [
      "8\n"
     ]
    }
   ],
   "source": [
    "#Array array size\n",
    "a=np.array([[1,2,3,4],\n",
    "            [5,6,7,8]])\n",
    "print(a.size)"
   ]
  },
  {
   "cell_type": "code",
   "execution_count": 15,
   "id": "40f46b61-1bf3-4da6-afae-4919154df3c0",
   "metadata": {},
   "outputs": [
    {
     "name": "stdout",
     "output_type": "stream",
     "text": [
      "[[ 1  2  3]\n",
      " [ 4  5  6]\n",
      " [ 7  8  9]\n",
      " [10 11 12]]\n"
     ]
    }
   ],
   "source": [
    "#Reshape array\n",
    "a=np.array([1,2,3,4,5,6,7,8,9,10,11,12])\n",
    "new_arr=a.reshape(4,3)\n",
    "print(new_arr)"
   ]
  },
  {
   "cell_type": "code",
   "execution_count": 14,
   "id": "dc77ee82-78fb-46f3-b41b-ffc64f8f6ff6",
   "metadata": {},
   "outputs": [
    {
     "name": "stdout",
     "output_type": "stream",
     "text": [
      "10\n",
      "20\n",
      "30\n",
      "40\n",
      "50\n"
     ]
    }
   ],
   "source": [
    "#Array iterating \n",
    "a=np.array([10,20,30,40,50])\n",
    "for x in a:\n",
    "    print(x)\n"
   ]
  },
  {
   "cell_type": "code",
   "execution_count": 64,
   "id": "611454ef-5b17-4a61-8d63-57beb0d12c2b",
   "metadata": {},
   "outputs": [
    {
     "name": "stdout",
     "output_type": "stream",
     "text": [
      "[1 2 3 4 5 6]\n"
     ]
    }
   ],
   "source": [
    "#Joining Array\n",
    "a=np.array([1,2,3])\n",
    "a1=np.array([4,5,6])\n",
    "a2=np.concatenate((a,a1))\n",
    "print(a2)"
   ]
  },
  {
   "cell_type": "code",
   "execution_count": 25,
   "id": "66e47cf2-35b0-4825-abf6-05db5ddaafa7",
   "metadata": {},
   "outputs": [
    {
     "name": "stdout",
     "output_type": "stream",
     "text": [
      "[array([10, 20]), array([30, 40]), array([50])]\n"
     ]
    }
   ],
   "source": [
    "#Spliting Array\n",
    "a=np.array([10,20,30,40,50])\n",
    "new_a=np.array_split(a,3)#return in no of rows \n",
    "print(new_a)\n"
   ]
  },
  {
   "cell_type": "code",
   "execution_count": 26,
   "id": "3a71601a-178a-485d-b6f7-aaac4a2bac87",
   "metadata": {},
   "outputs": [
    {
     "name": "stdout",
     "output_type": "stream",
     "text": [
      "(array([3, 5, 6]),)\n"
     ]
    }
   ],
   "source": [
    "#Searching for array\n",
    "a=np.array([1,2,3,4,5,4,4])\n",
    "x=np.where(a==4)#Print index where occurence \n",
    "print(x)"
   ]
  },
  {
   "cell_type": "code",
   "execution_count": 28,
   "id": "9812a149-0892-41b5-9bcb-f855791c375c",
   "metadata": {},
   "outputs": [
    {
     "name": "stdout",
     "output_type": "stream",
     "text": [
      "[2 4 5 6 9]\n",
      "[9 6 5 4 2]\n"
     ]
    }
   ],
   "source": [
    "#Sorting for Array\n",
    "a=np.array([4,6,2,5,9])\n",
    "print(np.sort(a))#By default desc\n",
    "\n",
    "#Descending\n",
    "a=np.array([4,6,2,5,9])\n",
    "print(np.sort(a)[::-1])#Negative slicing\n"
   ]
  },
  {
   "cell_type": "code",
   "execution_count": 31,
   "id": "9a41f81e-af5d-42e0-82ed-1216ebde22ea",
   "metadata": {},
   "outputs": [
    {
     "name": "stdout",
     "output_type": "stream",
     "text": [
      "[10 30 50]\n"
     ]
    }
   ],
   "source": [
    "#Filter Array\n",
    "a=np.array([10,20,30,40,50])\n",
    "x=[True,False,True,False,True]\n",
    "new_a = a[x]\n",
    "print(new_a)\n"
   ]
  },
  {
   "cell_type": "code",
   "execution_count": 36,
   "id": "69ec1d54-b9d7-414f-97c8-e04c625f401e",
   "metadata": {},
   "outputs": [
    {
     "name": "stdout",
     "output_type": "stream",
     "text": [
      "[False, False, False, False, True]\n",
      "[50]\n"
     ]
    }
   ],
   "source": [
    "#Access element using if-else\n",
    "a=np.array([10,20,30,40,50])\n",
    "filter_arr=[]\n",
    "for element in a:\n",
    "    if element>42:\n",
    "        filter_arr.append(True)\n",
    "    else:\n",
    "        filter_arr.append(False)\n",
    "new_a=a[filter_arr]\n",
    "print(filter_arr)\n",
    "print(new_a)\n",
    " \n"
   ]
  },
  {
   "cell_type": "code",
   "execution_count": 39,
   "id": "67344694-aa4e-42d9-b5a8-c92976f5c295",
   "metadata": {},
   "outputs": [
    {
     "name": "stdout",
     "output_type": "stream",
     "text": [
      "[10. 20. 30. 40. 50.]\n"
     ]
    }
   ],
   "source": [
    "#Conversion of datatype\n",
    "a=np.array([10,20,30,40,50])\n",
    "print(a.astype(float))\n"
   ]
  },
  {
   "cell_type": "code",
   "execution_count": 49,
   "id": "22fbf30e-18d2-4109-b555-9dfda80f1c1d",
   "metadata": {},
   "outputs": [
    {
     "name": "stdout",
     "output_type": "stream",
     "text": [
      "[ 10  20  30  40  50  60  70  80  90 100]\n",
      "[10 20 30 60 70 40 50]\n",
      "[10 20 30 50]\n"
     ]
    }
   ],
   "source": [
    "#adding and removing element\n",
    "a=np.array([10,20,30,40,50])\n",
    "print(np.append(a,[60,70,80,90,100]))#Add element Using append() \n",
    "print(np.insert(a,3,[60,70]))#Add element using insert() \n",
    "print(np.delete(a,[3]))#Removing element using delete()"
   ]
  },
  {
   "cell_type": "code",
   "execution_count": 50,
   "id": "0f71fc2e-1be6-4b27-a5b2-c45a30c7500e",
   "metadata": {},
   "outputs": [
    {
     "name": "stdout",
     "output_type": "stream",
     "text": [
      "150\n"
     ]
    }
   ],
   "source": [
    "#Aggregate functions\n",
    "#Sum()\n",
    "a=np.array([10,20,30,40,50])\n",
    "print(np.sum(a))"
   ]
  },
  {
   "cell_type": "code",
   "execution_count": 51,
   "id": "1567db4e-e6db-4e4c-9bfb-51a2d183a4d0",
   "metadata": {},
   "outputs": [
    {
     "name": "stdout",
     "output_type": "stream",
     "text": [
      "10\n"
     ]
    }
   ],
   "source": [
    "#Min()\n",
    "a=np.array([10,20,30,40,50])\n",
    "print(np.min(a))"
   ]
  },
  {
   "cell_type": "code",
   "execution_count": 52,
   "id": "5f868f28-e4ca-491e-932e-42f08fe2386b",
   "metadata": {},
   "outputs": [
    {
     "name": "stdout",
     "output_type": "stream",
     "text": [
      "50\n"
     ]
    }
   ],
   "source": [
    "#Max()\n",
    "a=np.array([10,20,30,40,50])\n",
    "print(np.max(a))"
   ]
  },
  {
   "cell_type": "code",
   "execution_count": 53,
   "id": "760cb93d-3fb0-4b2e-b25d-875068f17393",
   "metadata": {},
   "outputs": [
    {
     "name": "stdout",
     "output_type": "stream",
     "text": [
      "[ 10  30  60 100 150]\n"
     ]
    }
   ],
   "source": [
    "#Cumsum\n",
    "a=np.array([10,20,30,40,50])\n",
    "print(np.cumsum(a))"
   ]
  },
  {
   "cell_type": "code",
   "execution_count": 56,
   "id": "0cacca81-e35a-45ad-af88-76dfea154a66",
   "metadata": {},
   "outputs": [
    {
     "name": "stdout",
     "output_type": "stream",
     "text": [
      "35.0\n"
     ]
    }
   ],
   "source": [
    "#Stastical Functions\n",
    "#Mean()\n",
    "a=np.array([10,20,30,40,50,60])\n",
    "print(np.mean(a))"
   ]
  },
  {
   "cell_type": "code",
   "execution_count": 57,
   "id": "5819afd8-6d38-4609-afda-7a75beb194b7",
   "metadata": {},
   "outputs": [
    {
     "name": "stdout",
     "output_type": "stream",
     "text": [
      "35.0\n"
     ]
    }
   ],
   "source": [
    "#Median()\n",
    "a=np.array([10,20,30,40,50,60])\n",
    "print(np.median(a))"
   ]
  },
  {
   "cell_type": "code",
   "execution_count": 66,
   "id": "aeacc3aa-c087-4aff-b702-aba193b29305",
   "metadata": {},
   "outputs": [
    {
     "name": "stdout",
     "output_type": "stream",
     "text": [
      "ModeResult(mode=np.int64(20), count=np.int64(3))\n"
     ]
    }
   ],
   "source": [
    "#Mode\n",
    "from scipy import stats\n",
    "a=np.array([10,20,30,40,50,60,20,30,20])\n",
    "print(stats.mode(a))"
   ]
  },
  {
   "cell_type": "code",
   "execution_count": null,
   "id": "ec725fe7-3c72-4154-bbb6-529ca9dee52e",
   "metadata": {},
   "outputs": [],
   "source": []
  }
 ],
 "metadata": {
  "kernelspec": {
   "display_name": "Python 3 (ipykernel)",
   "language": "python",
   "name": "python3"
  },
  "language_info": {
   "codemirror_mode": {
    "name": "ipython",
    "version": 3
   },
   "file_extension": ".py",
   "mimetype": "text/x-python",
   "name": "python",
   "nbconvert_exporter": "python",
   "pygments_lexer": "ipython3",
   "version": "3.13.4"
  }
 },
 "nbformat": 4,
 "nbformat_minor": 5
}
